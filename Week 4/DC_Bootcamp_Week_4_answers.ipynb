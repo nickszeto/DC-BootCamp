{
 "cells": [
  {
   "cell_type": "markdown",
   "metadata": {},
   "source": [
    "# Functions"
   ]
  },
  {
   "cell_type": "markdown",
   "metadata": {},
   "source": [
    "## Run The Following Code\n",
    "Hit SHIFT + ENTER when your cusor is inside the cell of code.<br/>"
   ]
  },
  {
   "cell_type": "markdown",
   "metadata": {},
   "source": [
    "> You define a function as follows:"
   ]
  },
  {
   "cell_type": "code",
   "execution_count": 1,
   "metadata": {},
   "outputs": [],
   "source": [
    "def add(a, b):\n",
    "    c = a + b\n",
    "    return c"
   ]
  },
  {
   "cell_type": "markdown",
   "metadata": {},
   "source": [
    "> What you just did is to define a function called <b>add</b> that takes in two parameters <b>a</b> and <b>b</b>, and returns <b>c</b> which is a sum of the two parameters.\n",
    "> After defining a function, you can use it as many times as you want.<br/><br/>\n",
    "when you invoke/call a function, you just type out its name, followed by the brackets. If there are parameters, the parameters will be passed into the brackets."
   ]
  },
  {
   "cell_type": "code",
   "execution_count": 2,
   "metadata": {},
   "outputs": [
    {
     "data": {
      "text/plain": [
       "3"
      ]
     },
     "execution_count": 2,
     "metadata": {},
     "output_type": "execute_result"
    }
   ],
   "source": [
    "add(1, 2)"
   ]
  },
  {
   "cell_type": "code",
   "execution_count": 3,
   "metadata": {},
   "outputs": [
    {
     "data": {
      "text/plain": [
       "7"
      ]
     },
     "execution_count": 3,
     "metadata": {},
     "output_type": "execute_result"
    }
   ],
   "source": [
    "add(3,4)"
   ]
  },
  {
   "cell_type": "markdown",
   "metadata": {},
   "source": [
    "> once your function returns, the code following the return statement will not run anymore.<br/>\n",
    "You can see that the statement \"Finished adding...\" never ran."
   ]
  },
  {
   "cell_type": "code",
   "execution_count": 4,
   "metadata": {},
   "outputs": [],
   "source": [
    "def add_withprint(a, b):\n",
    "    print(\"Starting to add ...\")\n",
    "    c = a + b\n",
    "    return c\n",
    "    print(\"Finished adding...\")"
   ]
  },
  {
   "cell_type": "code",
   "execution_count": 5,
   "metadata": {},
   "outputs": [
    {
     "name": "stdout",
     "output_type": "stream",
     "text": [
      "Starting to add ...\n"
     ]
    },
    {
     "data": {
      "text/plain": [
       "3"
      ]
     },
     "execution_count": 5,
     "metadata": {},
     "output_type": "execute_result"
    }
   ],
   "source": [
    "add_withprint(1, 2)"
   ]
  },
  {
   "cell_type": "markdown",
   "metadata": {},
   "source": [
    "> A common newbie mistake is to define a function with the actual values you want to use. Like the following mistake:"
   ]
  },
  {
   "cell_type": "code",
   "execution_count": null,
   "metadata": {},
   "outputs": [],
   "source": [
    "def add_mistake(1,2):\n",
    "    return 3"
   ]
  },
  {
   "cell_type": "markdown",
   "metadata": {},
   "source": [
    "> There is no limit to the number of parameters you can take in. You can also write a function without any parameters. But there must only be at most <b>one</b> return statement. You can write a function without any return statements too."
   ]
  },
  {
   "cell_type": "code",
   "execution_count": null,
   "metadata": {},
   "outputs": [],
   "source": [
    "def basic_function():\n",
    "    print(\"this function does nothing.\")"
   ]
  },
  {
   "cell_type": "code",
   "execution_count": null,
   "metadata": {},
   "outputs": [],
   "source": [
    "basic_function()"
   ]
  },
  {
   "cell_type": "code",
   "execution_count": null,
   "metadata": {},
   "outputs": [],
   "source": [
    "def super_add(a,b,c,d,e):\n",
    "    z = a + b + c + d + e\n",
    "    return z"
   ]
  },
  {
   "cell_type": "code",
   "execution_count": null,
   "metadata": {},
   "outputs": [],
   "source": [
    "super_add(1,2,3,4,5)"
   ]
  },
  {
   "cell_type": "markdown",
   "metadata": {},
   "source": [
    "> Another common newbie mistake, which is harder to detect, is to use a print instead of a return. Like the following mistake:"
   ]
  },
  {
   "cell_type": "code",
   "execution_count": null,
   "metadata": {},
   "outputs": [],
   "source": [
    "def add_wrong(a,b):\n",
    "    c = a + b\n",
    "    print(c)"
   ]
  },
  {
   "cell_type": "code",
   "execution_count": null,
   "metadata": {},
   "outputs": [],
   "source": [
    "add_wrong(1,2)"
   ]
  },
  {
   "cell_type": "markdown",
   "metadata": {},
   "source": [
    "> Now, it looks like the result is the same, but notice that there is no \"Out\" in this one. But the earlier one using return has an \"Out\".\n",
    "> You will see what's the significance of this when you use functions like the below:"
   ]
  },
  {
   "cell_type": "code",
   "execution_count": null,
   "metadata": {},
   "outputs": [],
   "source": [
    "final_answer = add_wrong(1,2)\n",
    "print(final_answer)"
   ]
  },
  {
   "cell_type": "markdown",
   "metadata": {},
   "source": [
    "> Notice that a 3 is printed out, then followed by a None. The 3 is printed out when the function add_wrong is being evaluated. Then when you print the variable <b>final_answer</b>, because there is nothing being returned, it contains <b>None</b> ... which means nothing.<br/><br/>\n",
    "This is the proper way that you should have defined and used the function."
   ]
  },
  {
   "cell_type": "code",
   "execution_count": null,
   "metadata": {},
   "outputs": [],
   "source": [
    "final_answer = add(1,2)\n",
    "print(final_answer)"
   ]
  },
  {
   "cell_type": "markdown",
   "metadata": {},
   "source": [
    "> try ... except ... else ... finally clauses are usually to help you catch errors in your code, so your program doesn't crash. Run the following code and you realise that it causes some runtime error."
   ]
  },
  {
   "cell_type": "code",
   "execution_count": null,
   "metadata": {},
   "outputs": [],
   "source": [
    "print(\"doing some risky code...\")\n",
    "\n",
    "data = [1,2,3]\n",
    "print(data - 2)\n",
    "\n",
    "print(\"done!\")"
   ]
  },
  {
   "cell_type": "markdown",
   "metadata": {},
   "source": [
    "> the statement \"done!\" was never printed out because your code crashed.<br/><br/>\n",
    "> if you enclose this within a try ... except ... else ... finally clause, your code will continue to run."
   ]
  },
  {
   "cell_type": "code",
   "execution_count": null,
   "metadata": {},
   "outputs": [],
   "source": [
    "print(\"doing some risky code...\")\n",
    "\n",
    "try:\n",
    "    data = [1,2,3]\n",
    "    print(data - 2)\n",
    "except:\n",
    "    print(\"An error is caught\")\n",
    "else:\n",
    "    print(\"No error!\")\n",
    "finally:\n",
    "    print(\"done!\")"
   ]
  },
  {
   "cell_type": "code",
   "execution_count": null,
   "metadata": {},
   "outputs": [],
   "source": [
    "print(\"doing some risky code...\")\n",
    "\n",
    "try:\n",
    "    data = [1,2,3]\n",
    "    print(data * 2)\n",
    "except:\n",
    "    print(\"An error is caught\")\n",
    "else:\n",
    "    print(\"No error!\")\n",
    "finally:\n",
    "    print(\"done!\")"
   ]
  },
  {
   "cell_type": "markdown",
   "metadata": {},
   "source": [
    "> The simplest form is to just use try ... except"
   ]
  },
  {
   "cell_type": "code",
   "execution_count": null,
   "metadata": {},
   "outputs": [],
   "source": [
    "print(\"doing some risky code...\")\n",
    "\n",
    "try:\n",
    "    data = [1,2,3]\n",
    "    print(data - 2)\n",
    "except:\n",
    "    print(\"An error is caught\")"
   ]
  },
  {
   "cell_type": "markdown",
   "metadata": {},
   "source": [
    "# !! Your Turn !!"
   ]
  },
  {
   "cell_type": "markdown",
   "metadata": {},
   "source": [
    "## Replace the code marked as <..> COMPLETELY with your own.\n",
    "For example:\n",
    "length = <..> will be replaced by length = 10"
   ]
  },
  {
   "cell_type": "markdown",
   "metadata": {},
   "source": [
    "# Question 1\n",
    "1) Define a simple function, <b>sayhi</b>, that prints out hello.<br/>\n",
    "2) Call the function."
   ]
  },
  {
   "cell_type": "code",
   "execution_count": null,
   "metadata": {},
   "outputs": [],
   "source": [
    "def sayhi():\n",
    "    print(\"Hello\")\n",
    "    \n",
    "sayhi()"
   ]
  },
  {
   "cell_type": "markdown",
   "metadata": {},
   "source": [
    "# Question 2\n",
    "1) Modify the <b>sayhi</b> function to take in an argument, <b>name</b>.<br/>\n",
    "2) Modify the <b>sayhi</b> function such that when you call the function, it prints out Hello, followed by the name you passed in. <br/>\n",
    "3) For example, sayhi(\"John\") will produce<br/>\n",
    "Hello John"
   ]
  },
  {
   "cell_type": "code",
   "execution_count": null,
   "metadata": {},
   "outputs": [],
   "source": [
    "def sayhi(name):\n",
    "    print(\"Hello\",name)\n",
    "    \n",
    "sayhi(\"John\")"
   ]
  },
  {
   "cell_type": "markdown",
   "metadata": {},
   "source": [
    "# Question 3\n",
    "1) Modify the <b>sayhi</b> function such that even when you do not pass in any argument into the parameter, it will say \"Hello sweetie\".<br/>\n",
    "2) For example:<br/>\n",
    "sayhi() will produce<br/>\n",
    "    Hello sweetie<br/><br/>\n",
    "sayhi(\"John\") will produce<br/>\n",
    "    Hello John"
   ]
  },
  {
   "cell_type": "code",
   "execution_count": null,
   "metadata": {},
   "outputs": [],
   "source": [
    "def sayhi(name=\"sweetie\"):\n",
    "    print(\"Hello\",name)\n",
    "    \n",
    "sayhi()\n",
    "sayhi(\"John\")"
   ]
  },
  {
   "cell_type": "markdown",
   "metadata": {},
   "source": [
    "# Question 4\n",
    "1) 2 to the power of 3 is written as 2**3 in Python code.<br/>\n",
    "2) 2 is called the base.<br/>\n",
    "3) 3 is called the exponent.<br/>\n",
    "4) Write a function, <b>powerof</b>, that takes in two numbers (base and exponent), and output base to the power of exponent.<br/>\n",
    "5) Call the function with base = 3, exponent = 5<br/>"
   ]
  },
  {
   "cell_type": "code",
   "execution_count": null,
   "metadata": {},
   "outputs": [],
   "source": [
    "def powerof(base, exponent):\n",
    "    return base ** exponent"
   ]
  },
  {
   "cell_type": "code",
   "execution_count": null,
   "metadata": {},
   "outputs": [],
   "source": [
    "#test it out with this:\n",
    "powerof(3,5)\n",
    "\n",
    "#you should see an output of 243"
   ]
  },
  {
   "cell_type": "markdown",
   "metadata": {},
   "source": [
    "# Question 5\n",
    "1) Write a function, <b>magic</b>, that takes in two parameters:<br/>\n",
    "<b>numbers</b> (a list of numbers), and<br/>\n",
    "<b>factor</b> (an integer)<br/>\n",
    "2) First, write the function such that it simply returns (not print) out the list as it is."
   ]
  },
  {
   "cell_type": "code",
   "execution_count": null,
   "metadata": {},
   "outputs": [],
   "source": [
    "def magic(numbers, factor):\n",
    "    return numbers"
   ]
  },
  {
   "cell_type": "code",
   "execution_count": null,
   "metadata": {},
   "outputs": [],
   "source": [
    "#test it out with this:\n",
    "magic([1,2,3,4,5],5)\n",
    "\n",
    "#you should see an output of [1,2,3,4,5]"
   ]
  },
  {
   "cell_type": "markdown",
   "metadata": {},
   "source": [
    "3) Modify the function <b>magic</b> such that it multiplies the list with the factor, and returns the output."
   ]
  },
  {
   "cell_type": "code",
   "execution_count": null,
   "metadata": {
    "scrolled": true
   },
   "outputs": [],
   "source": [
    "def magic(numbers, factor):\n",
    "    for i in range(len(numbers)):\n",
    "        numbers[i] = numbers[i] * factor\n",
    "    return numbers"
   ]
  },
  {
   "cell_type": "code",
   "execution_count": null,
   "metadata": {},
   "outputs": [],
   "source": [
    "#test it out with this:\n",
    "magic([1,2,3,4,5],5)\n",
    "\n",
    "#you should see an output of [5, 10, 15, 20, 25]"
   ]
  },
  {
   "cell_type": "markdown",
   "metadata": {},
   "source": [
    "4) call your magic function using magic(factor = 5, numbers = [1,2,3,4,5]) instead.<br/>\n",
    "Does it still work even though your paramters are in the wrong place?"
   ]
  },
  {
   "cell_type": "code",
   "execution_count": null,
   "metadata": {},
   "outputs": [],
   "source": [
    "magic(factor = 5, numbers = [1,2,3,4,5])"
   ]
  },
  {
   "cell_type": "markdown",
   "metadata": {},
   "source": [
    "# Question 6\n",
    "1) You can't write all functions you need by yourself. import helps you bring in libraries of functions written by others.<br/>\n",
    "2) Do an import for the random library and call it ran."
   ]
  },
  {
   "cell_type": "code",
   "execution_count": null,
   "metadata": {},
   "outputs": [],
   "source": [
    "import random as ran"
   ]
  },
  {
   "cell_type": "markdown",
   "metadata": {},
   "source": [
    "3) Create a random integer from 1 to 100 and store it in a variable <b>lucky_num</b>. Run it a few times to make sure that it's \"truly\" random."
   ]
  },
  {
   "cell_type": "code",
   "execution_count": null,
   "metadata": {},
   "outputs": [],
   "source": [
    "lucky_num = ran.randint(1,100)\n",
    "print(lucky_num)"
   ]
  },
  {
   "cell_type": "markdown",
   "metadata": {},
   "source": [
    "4) Create a variable <b>guess</b> that stores an empty string at the onstart.<br/>\n",
    "5) Do a while loop that loops while guess is not equal to \"exit\".<br/>\n",
    "6) When the while loop runs, it asks for an input with the following prompt: \"Make a guess from 1 to 100. Type exit to stop. \"<br/>\n",
    "7) Then print out what the person's guess is. For example, if the person guessed 50, then print out<br/>\n",
    "You made a guess of 50"
   ]
  },
  {
   "cell_type": "code",
   "execution_count": null,
   "metadata": {},
   "outputs": [],
   "source": [
    "guess = \"\"\n",
    "while guess != \"exit\":\n",
    "    guess = input(\"Make a guess from 1 to 100. Type exit to stop. \")\n",
    "    print(\"You made a guess of\", guess)"
   ]
  },
  {
   "cell_type": "markdown",
   "metadata": {},
   "source": [
    "8) if the guess is the same as the lucky number, print out \"Congrats\" and break out of the while loop.<br/>\n",
    "Note: input takes in a string. Your earlier lucky number is an int. You need to cast them into the same data type before comparing."
   ]
  },
  {
   "cell_type": "code",
   "execution_count": null,
   "metadata": {},
   "outputs": [],
   "source": [
    "guess = \"\"\n",
    "while guess != \"exit\":\n",
    "    guess = input(\"Make a guess from 1 to 100. Type exit to stop. \")\n",
    "    print(\"You made a guess of\", guess)\n",
    "    if guess == str(lucky_num):\n",
    "        print(\"Congrats\")\n",
    "        break"
   ]
  },
  {
   "cell_type": "markdown",
   "metadata": {},
   "source": [
    "# Question 7 *\n",
    "1) Write a function, <b>splitter</b> that takes in an IC string, and outputs a tuple of the digits only.<br/>\n",
    "For example, if we do:<br/>\n",
    "a,b,c,d,e,f,g = splitter('S1234567D') <br/>\n",
    "a will store 1.<br/>\n",
    "b will store 2.<br/>\n",
    "...<br/>\n",
    "g will store 7.<br/>"
   ]
  },
  {
   "cell_type": "code",
   "execution_count": 61,
   "metadata": {},
   "outputs": [],
   "source": [
    "def splitter(ic):\n",
    "    a = int(ic[1])\n",
    "    b = int(ic[2])\n",
    "    c = int(ic[3])\n",
    "    d = int(ic[4])\n",
    "    e = int(ic[5])\n",
    "    f = int(ic[6])\n",
    "    g = int(ic[7])\n",
    "    \n",
    "    return (a,b,c,d,e,f,g)"
   ]
  },
  {
   "cell_type": "code",
   "execution_count": 62,
   "metadata": {},
   "outputs": [
    {
     "name": "stdout",
     "output_type": "stream",
     "text": [
      "1 2 3 4 5 6 7\n"
     ]
    }
   ],
   "source": [
    "#test your function here\n",
    "a,b,c,d,e,f,g = splitter('S1234567D')\n",
    "print(a,b,c,d,e,f,g)"
   ]
  },
  {
   "cell_type": "markdown",
   "metadata": {},
   "source": [
    "# Question 8 *"
   ]
  },
  {
   "cell_type": "markdown",
   "metadata": {},
   "source": [
    "Modify the code in Question 6 such that you check if the user keys in an alphabet instead of a number, and alerts the user.<br/><br/>\n",
    "Sample Output:<br/>\n",
    "For testing purposes: 67<br/>\n",
    "Make a guess from 1 to 100. Type exit to stop. 10<br/>\n",
    "You made a guess of 10<br/>\n",
    "Make a guess from 1 to 100. Type exit to stop. abc<br/>\n",
    "Please only key in a number.<br/>\n",
    "Make a guess from 1 to 100. Type exit to stop. 67<br/>\n",
    "You made a guess of 67<br/>\n",
    "Congrats<br/>"
   ]
  },
  {
   "cell_type": "code",
   "execution_count": 2,
   "metadata": {},
   "outputs": [
    {
     "name": "stdout",
     "output_type": "stream",
     "text": [
      "For testing purposes: 67\n",
      "Make a guess from 1 to 100. Type exit to stop. 10\n",
      "You made a guess of 10\n",
      "Make a guess from 1 to 100. Type exit to stop. abc\n",
      "Please only key in a number.\n",
      "Make a guess from 1 to 100. Type exit to stop. 67\n",
      "You made a guess of 67\n",
      "Congrats\n"
     ]
    }
   ],
   "source": [
    "import random as ran\n",
    "lucky_num = ran.randint(1,100)\n",
    "print(\"For testing purposes:\",lucky_num)\n",
    "lucky_num = str(lucky_num)\n",
    "\n",
    "guess = \"\"\n",
    "while guess != \"exit\":\n",
    "    guess = input(\"Make a guess from 1 to 100. Type exit to stop. \")\n",
    "    if guess == 'exit':\n",
    "        break\n",
    "    else:\n",
    "        try:\n",
    "            # Doens't True/False as result of comparison\n",
    "            guess = int(guess)\n",
    "        except:\n",
    "            print(\"Please only key in a number.\")\n",
    "        else:\n",
    "            print(\"You made a guess of\", guess)\n",
    "            if guess == lucky_num:\n",
    "                print(\"Congrats\")\n",
    "                break\n",
    "                \n",
    "# <_ exit from while loop"
   ]
  },
  {
   "cell_type": "markdown",
   "metadata": {},
   "source": [
    "# Question 9 *"
   ]
  },
  {
   "cell_type": "markdown",
   "metadata": {},
   "source": [
    "Modify the code in Question 9 such that after the user makes a guess, you will prompt him whether his guess is too high or too low.<br/><br/>\n",
    "Sample Output<br/>\n",
    "For testing purposes: 68<br/>\n",
    "Make a guess from 1 to 100. Type exit to stop. 4<br/>\n",
    "You made a guess of 4<br/>\n",
    "Your guess is too low.<br/>\n",
    "Make a guess from 1 to 100. Type exit to stop. 99<br/>\n",
    "You made a guess of 99<br/>\n",
    "Your guess is too high.<br/>\n",
    "Make a guess from 1 to 100. Type exit to stop. 68<br/>\n",
    "You made a guess of 68<br/>\n",
    "Congrats<br/>"
   ]
  },
  {
   "cell_type": "code",
   "execution_count": 3,
   "metadata": {},
   "outputs": [
    {
     "name": "stdout",
     "output_type": "stream",
     "text": [
      "For testing purposes: 68\n",
      "Make a guess from 1 to 100. Type exit to stop. 4\n",
      "You made a guess of 4\n",
      "Your guess is too low.\n",
      "Make a guess from 1 to 100. Type exit to stop. 99\n",
      "You made a guess of 99\n",
      "Your guess is too high.\n",
      "Make a guess from 1 to 100. Type exit to stop. 68\n",
      "You made a guess of 68\n",
      "Congrats\n"
     ]
    }
   ],
   "source": [
    "import random as ran\n",
    "lucky_num = ran.randint(1,100)\n",
    "print(\"For testing purposes:\",lucky_num)\n",
    "\n",
    "guess = \"\"\n",
    "while guess != \"exit\":\n",
    "    guess = input(\"Make a guess from 1 to 100. Type exit to stop. \")\n",
    "    if guess == 'exit':\n",
    "        break\n",
    "    else:\n",
    "        try:\n",
    "            guess = int(guess)\n",
    "        except:\n",
    "            print(\"Please only key in a number.\")\n",
    "        else:\n",
    "            print(\"You made a guess of\", guess)\n",
    "            if guess == lucky_num:\n",
    "                print(\"Congrats\")\n",
    "                break\n",
    "            elif guess < lucky_num:\n",
    "                print(\"Your guess is too low.\")\n",
    "            elif guess > lucky_num:\n",
    "                print(\"Your guess is too high.\")"
   ]
  }
 ],
 "metadata": {
  "kernelspec": {
   "display_name": "Python 3 (ipykernel)",
   "language": "python",
   "name": "python3"
  },
  "language_info": {
   "codemirror_mode": {
    "name": "ipython",
    "version": 3
   },
   "file_extension": ".py",
   "mimetype": "text/x-python",
   "name": "python",
   "nbconvert_exporter": "python",
   "pygments_lexer": "ipython3",
   "version": "3.9.7"
  },
  "widgets": {
   "application/vnd.jupyter.widget-state+json": {
    "state": {},
    "version_major": 2,
    "version_minor": 0
   }
  }
 },
 "nbformat": 4,
 "nbformat_minor": 4
}
